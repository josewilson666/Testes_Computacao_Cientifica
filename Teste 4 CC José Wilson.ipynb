{
 "cells": [
  {
   "cell_type": "markdown",
   "metadata": {
    "id": "Wo8ZKX-RVOEl"
   },
   "source": [
    "![CC-BY-SA](https://mirrors.creativecommons.org/presskit/buttons/88x31/svg/by-sa.svg)\n",
    "\n",
    "\n",
    "This notebook was created by [Bernardo Freitas Paulo da Costa](http://www.im.ufrj.br/bernardofpc),\n",
    "and is licensed under Creative Commons BY-SA."
   ]
  },
  {
   "cell_type": "markdown",
   "metadata": {
    "id": "B8XsCGuaVOFG"
   },
   "source": [
    "Antes de enviar este Teste, verifique que tudo está funcionando como esperado.\n",
    "Por exemplo, **rode o código inteiro, do zero**.\n",
    "Para isso, vá no menu, escolha _Kernel_, depois _Restart & Run All_.\n",
    "\n",
    "Verifique, também, que você respondeu todas as questões:\n",
    "* as questões de código têm `YOUR CODE HERE` (e você pode apagar o `raise NotImplemented` ao incluir sua resposta)\n",
    "* as questões discursivas têm \"YOUR ANSWER HERE\"."
   ]
  },
  {
   "cell_type": "markdown",
   "metadata": {
    "id": "3_Ai39m0VOFP"
   },
   "source": [
    "**José Wilson Conceição de Souza - \n",
    "DRE: 122071379**"
   ]
  },
  {
   "cell_type": "markdown",
   "metadata": {
    "id": "LJK3mtLZVOFX"
   },
   "source": [
    "Ideias e funções: Luan Lima \\& Bernardo Costa"
   ]
  },
  {
   "cell_type": "code",
   "execution_count": 1,
   "metadata": {
    "deletable": false,
    "editable": false,
    "executionInfo": {
     "elapsed": 59,
     "status": "ok",
     "timestamp": 1665111039025,
     "user": {
      "displayName": "José Wilson",
      "userId": "13817341890133029989"
     },
     "user_tz": 180
    },
    "id": "55qldYIHVOFd",
    "nbgrader": {
     "cell_type": "code",
     "checksum": "fad3c375e7e9bea49e1af8a31ba4ae42",
     "grade": false,
     "grade_id": "cell-65e15f0c80a778ad",
     "locked": true,
     "schema_version": 3,
     "solution": false,
     "task": false
    }
   },
   "outputs": [],
   "source": [
    "import numpy as np\n",
    "import matplotlib.pyplot as plt"
   ]
  },
  {
   "cell_type": "markdown",
   "metadata": {
    "deletable": false,
    "editable": false,
    "id": "PYfAh0cRVOFr",
    "nbgrader": {
     "cell_type": "markdown",
     "checksum": "f0356207f3ddab37b3a572f7ea4b12e9",
     "grade": false,
     "grade_id": "cell-a29e7d7add82d4c0",
     "locked": true,
     "schema_version": 3,
     "solution": false,
     "task": false
    }
   },
   "source": [
    "# Calculando o mínimo de uma função\n",
    "\n",
    "Encontrar o mínimo de uma função derivável é (quase) equivalente a resolver a equação $f'(x) = 0$.\n",
    "\n",
    "Vamos explorar algumas destas ideias."
   ]
  },
  {
   "cell_type": "markdown",
   "metadata": {
    "deletable": false,
    "editable": false,
    "id": "dOo7CYOoVOFv",
    "nbgrader": {
     "cell_type": "markdown",
     "checksum": "9309a02cac44696888270aa5581d5d95",
     "grade": false,
     "grade_id": "cell-4c63876feb475715",
     "locked": true,
     "schema_version": 3,
     "solution": false,
     "task": false
    }
   },
   "source": [
    "# 1: Funções básicas\n",
    "\n",
    "## Métodos de bisseção e Newton"
   ]
  },
  {
   "cell_type": "code",
   "execution_count": 2,
   "metadata": {
    "deletable": false,
    "executionInfo": {
     "elapsed": 49,
     "status": "ok",
     "timestamp": 1665111040920,
     "user": {
      "displayName": "José Wilson",
      "userId": "13817341890133029989"
     },
     "user_tz": 180
    },
    "id": "Lc0JIpWyVOGE",
    "nbgrader": {
     "cell_type": "code",
     "checksum": "983d4641c507ccd0050884e47f850772",
     "grade": false,
     "grade_id": "cell-b115a314a5fec568",
     "locked": false,
     "schema_version": 3,
     "solution": true,
     "task": false
    }
   },
   "outputs": [],
   "source": [
    "def bissecao_pts(f, a, b, xtol=1e-8, ytol=1e-8):\n",
    "    \"\"\"\n",
    "    Encontra uma raiz de  f  pelo algoritmo da bissecao, retornando\n",
    "    todos os pontos pelos quais o algoritmo passa.\n",
    "    \n",
    "    O algoritmo termina quando o tamanho do intervalo ficar menor do que  xtol,\n",
    "    ou quando o valor absoluto da função ficar abaixo de  ytol.\n",
    "    \"\"\"\n",
    "    pts=[a, b]\n",
    "    while True:\n",
    "        z=(a+b)/2\n",
    "        pts.append(z)\n",
    "        if abs(f(z))<ytol or abs(b-a)<xtol:\n",
    "            break\n",
    "        if f(a)*f(z)>0 and f(b)*f(z)>0:\n",
    "            return 'A função não possui raíz nesse intervalo.'\n",
    "        if f(a)*f(z)<0:\n",
    "            b=z\n",
    "        if f(b)*f(z)<0:\n",
    "            a=z\n",
    "    return pts"
   ]
  },
  {
   "cell_type": "code",
   "execution_count": 3,
   "metadata": {
    "deletable": false,
    "executionInfo": {
     "elapsed": 14,
     "status": "ok",
     "timestamp": 1665111044223,
     "user": {
      "displayName": "José Wilson",
      "userId": "13817341890133029989"
     },
     "user_tz": 180
    },
    "id": "YJlTBsH9VOGO",
    "nbgrader": {
     "cell_type": "code",
     "checksum": "8f0d8b640d66fe72f5ba51c2876db16a",
     "grade": false,
     "grade_id": "cell-0b468dfa529cf20c",
     "locked": false,
     "schema_version": 3,
     "solution": true,
     "task": false
    }
   },
   "outputs": [],
   "source": [
    "def newton_pts(f, df, x, xtol=1e-8, ytol=1e-8, maxiter=100):\n",
    "    \"\"\"\n",
    "    Método de Newton para encontrar uma raiz de  f  a partir do valor inicial  x.\n",
    "    Retorna todos os pontos pelos quais o algoritmo passa.\n",
    "    \n",
    "    O algoritmo termina quando o tamanho do passo é menor do que  xtol,\n",
    "    quando o valor absoluto da função ficar abaixo de  ytol,\n",
    "    ou após  maxiter  iterações.\n",
    "    \"\"\"\n",
    "    pontos=[x]\n",
    "    inter=0\n",
    "    while True:\n",
    "        i=pontos[inter]\n",
    "        xn=i-f(i)/df(i)\n",
    "        if abs(xn-i)<=xtol or abs((xn-i)/xn)<=ytol or inter>maxiter:\n",
    "            break\n",
    "        pontos.append(xn)\n",
    "        inter+=1\n",
    "    return pontos"
   ]
  },
  {
   "cell_type": "markdown",
   "metadata": {
    "deletable": false,
    "editable": false,
    "id": "lFV0wCUwVOGX",
    "nbgrader": {
     "cell_type": "markdown",
     "checksum": "b82b9658092e18bbe8a8e0d707ecd858",
     "grade": false,
     "grade_id": "cell-6ff29452853ee3a2",
     "locked": true,
     "schema_version": 3,
     "solution": false,
     "task": false
    }
   },
   "source": [
    "## Derivadas numéricas\n",
    "\n",
    "Dê, abaixo, as funções para calcular a primeira e a segunda derivadas numéricas."
   ]
  },
  {
   "cell_type": "code",
   "execution_count": 4,
   "metadata": {
    "deletable": false,
    "executionInfo": {
     "elapsed": 310,
     "status": "ok",
     "timestamp": 1665111047555,
     "user": {
      "displayName": "José Wilson",
      "userId": "13817341890133029989"
     },
     "user_tz": 180
    },
    "id": "NhUlHWmMVOGc",
    "nbgrader": {
     "cell_type": "code",
     "checksum": "017080c36145ceee19aa97e75720bd2e",
     "grade": false,
     "grade_id": "cell-1daa58322d288c07",
     "locked": false,
     "schema_version": 3,
     "solution": true,
     "task": false
    }
   },
   "outputs": [],
   "source": [
    "def df_central(f, x, h=1e-5):\n",
    "    \"\"\"Derivada central de  f  em  x, com passo  h\"\"\"\n",
    "    return (f(x+h) - f(x-h))/(2*h)\n",
    "\n",
    "def ddf_central(f, x, h=1e-4):\n",
    "    \"\"\"Aproximação da segunda derivada de  f  em  x, usando a derivada central iterada com passo  h.\"\"\"\n",
    "    return (df_central(f,x+h)-df_central(f,x-h))/(2*h)\n"
   ]
  },
  {
   "cell_type": "markdown",
   "metadata": {
    "deletable": false,
    "editable": false,
    "id": "R35yfdrwVOGi",
    "nbgrader": {
     "cell_type": "markdown",
     "checksum": "5b715c646555740b82fd514ffc215c78",
     "grade": false,
     "grade_id": "cell-c16d8a91f6447f9a",
     "locked": true,
     "schema_version": 3,
     "solution": false,
     "task": false
    }
   },
   "source": [
    "## Erro de aproximação da derivada central iterada\n",
    "\n",
    "Varie $h$ no intervalo $[2^{-27}, 2^0]$,\n",
    "e faça um gráfico do erro da derivada central iterada para derivada segunda,\n",
    "para a exponencial em $x = 0$."
   ]
  },
  {
   "cell_type": "code",
   "execution_count": 5,
   "metadata": {
    "colab": {
     "base_uri": "https://localhost:8080/",
     "height": 303
    },
    "deletable": false,
    "executionInfo": {
     "elapsed": 2353,
     "status": "ok",
     "timestamp": 1665111053480,
     "user": {
      "displayName": "José Wilson",
      "userId": "13817341890133029989"
     },
     "user_tz": 180
    },
    "id": "WAwwSyMyVOGm",
    "nbgrader": {
     "cell_type": "code",
     "checksum": "48465f1971e3970e495c481aa5edce90",
     "grade": false,
     "grade_id": "cell-f9ef9935a20af648",
     "locked": false,
     "schema_version": 3,
     "solution": true,
     "task": false
    },
    "outputId": "f2136ec5-0129-4d46-b78a-aba3536e830e"
   },
   "outputs": [
    {
     "data": {
      "image/png": "[encoded data removed]",
      "text/plain": [
       "<Figure size 432x288 with 1 Axes>"
      ]
     },
     "metadata": {
      "needs_background": "light"
     },
     "output_type": "display_data"
    }
   ],
   "source": [
    "hs = np.logspace(-27,0,base=2, num=100)\n",
    "erro=ddf_central(np.exp,0,hs)-np.exp(0)\n",
    "plt.loglog(hs,abs(erro),color=\"black\", linestyle='', marker='o', markerfacecolor='red')\n",
    "plt.title('Erro da derivada central de $f(x)=e^x$ iterada para derivada segunda em $x=0$')\n",
    "plt.xlabel(\"Intervalo $h$\")\n",
    "plt.ylabel(\"Erro\")\n",
    "plt.grid()\n",
    "ax = plt.gca()\n",
    "\n",
    "ax = plt.gca()"
   ]
  },
  {
   "cell_type": "code",
   "execution_count": 6,
   "metadata": {
    "deletable": false,
    "editable": false,
    "executionInfo": {
     "elapsed": 534,
     "status": "ok",
     "timestamp": 1665111059328,
     "user": {
      "displayName": "José Wilson",
      "userId": "13817341890133029989"
     },
     "user_tz": 180
    },
    "id": "OPXTISYEVOG4",
    "nbgrader": {
     "cell_type": "code",
     "checksum": "154370ba9a12a78ee3a98b8b0a15fd7a",
     "grade": true,
     "grade_id": "cell-b05755409653a3ae",
     "locked": true,
     "points": 1,
     "schema_version": 3,
     "solution": false,
     "task": false
    }
   },
   "outputs": [],
   "source": [
    "assert len(ax.lines) == 1\n",
    "assert len(ax.title.get_text()) > 10\n",
    "assert ax.get_xlabel() != \"\""
   ]
  },
  {
   "cell_type": "markdown",
   "metadata": {
    "deletable": false,
    "editable": false,
    "id": "5pGEvB97VOG8",
    "nbgrader": {
     "cell_type": "markdown",
     "checksum": "8c2ddf6025a35030d3fc553bebbbeb32",
     "grade": false,
     "grade_id": "cell-ae0793549d9e71a6",
     "locked": true,
     "schema_version": 3,
     "solution": false,
     "task": false
    }
   },
   "source": [
    "Como esse gráfico muda se escolhermos outros pontos no intervalo $[-2,2]$?\n",
    "- Use erros relativos; e\n",
    "- faça várias curvas no mesmo gráfico."
   ]
  },
  {
   "cell_type": "code",
   "execution_count": 7,
   "metadata": {
    "colab": {
     "base_uri": "https://localhost:8080/",
     "height": 323
    },
    "deletable": false,
    "executionInfo": {
     "elapsed": 1124,
     "status": "ok",
     "timestamp": 1665115897628,
     "user": {
      "displayName": "José Wilson",
      "userId": "13817341890133029989"
     },
     "user_tz": 180
    },
    "id": "CYVv7jgKVOG_",
    "nbgrader": {
     "cell_type": "code",
     "checksum": "dd15fe897c27a33df3d529a16533c1d9",
     "grade": false,
     "grade_id": "cell-cd0d59a4500b0609",
     "locked": false,
     "schema_version": 3,
     "solution": true,
     "task": false
    },
    "outputId": "2d5ae623-df34-41fe-fd24-ab9c56a05d1b"
   },
   "outputs": [
    {
     "data": {
      "image/png": "[encoded data removed]",
      "text/plain": [
       "<Figure size 720x432 with 1 Axes>"
      ]
     },
     "metadata": {
      "needs_background": "light"
     },
     "output_type": "display_data"
    }
   ],
   "source": [
    "hs = np.logspace(-27,0,base=2, num=100)\n",
    "xs=np.linspace(-2,2,13)\n",
    "erros=[(ddf_central(np.exp,x,hs)-np.exp(x))/np.exp(x) for x in xs]\n",
    "plt.figure(figsize=(10,6))\n",
    "for erro in erros:\n",
    "    plt.loglog(hs,abs(erro))\n",
    "plt.legend([f'$x=$ {x:.2f}' for x in xs], title='$x$', bbox_to_anchor=(1,0.5), loc=\"center left\")\n",
    "plt.title('Erro da derivada central de $f(x)=e^x$ iterada para a derivada \\n segunda em pontos do intervalo $[-2, 2]$')\n",
    "plt.xlabel('Intervalo $h$')\n",
    "plt.ylabel('Erro')\n",
    "ax = plt.gca()"
   ]
  },
  {
   "cell_type": "code",
   "execution_count": 8,
   "metadata": {
    "deletable": false,
    "editable": false,
    "executionInfo": {
     "elapsed": 375,
     "status": "ok",
     "timestamp": 1665116010531,
     "user": {
      "displayName": "José Wilson",
      "userId": "13817341890133029989"
     },
     "user_tz": 180
    },
    "id": "g9roVClqVOHF",
    "nbgrader": {
     "cell_type": "code",
     "checksum": "8213755f994983b4f309248498704b3c",
     "grade": true,
     "grade_id": "cell-9c6df51d67a4e19a",
     "locked": true,
     "points": 2,
     "schema_version": 3,
     "solution": false,
     "task": false
    }
   },
   "outputs": [],
   "source": [
    "assert len(ax.lines) >= 8\n",
    "assert len(ax.title.get_text()) > 10\n",
    "assert ax.get_xlabel() != \"\""
   ]
  },
  {
   "cell_type": "markdown",
   "metadata": {
    "deletable": false,
    "editable": false,
    "id": "9SiqqIuQVOHL",
    "nbgrader": {
     "cell_type": "markdown",
     "checksum": "b34daa4b20059e25e7944c7c5527338e",
     "grade": false,
     "grade_id": "cell-f384f93ee7b42f89",
     "locked": true,
     "schema_version": 3,
     "solution": false,
     "task": false
    }
   },
   "source": [
    "Comente."
   ]
  },
  {
   "cell_type": "markdown",
   "metadata": {
    "deletable": false,
    "id": "-LzbK0PPVOHN",
    "nbgrader": {
     "cell_type": "markdown",
     "checksum": "541195bc2b2a521df317d40a8c12fb7c",
     "grade": true,
     "grade_id": "cell-729164762fe133a2",
     "locked": false,
     "points": 2,
     "schema_version": 3,
     "solution": true,
     "task": false
    }
   },
   "source": [
    "**Resposta**\n",
    "\n",
    "_O comportamento do erro é semelhante ao caso em  $x=0$. Conforme o intervalo $h$ se torna grande demais (a partir de $10^{-3}$), os erros aumentam. Percebe-se que há um intevalo ideal para $h$, compreemdido entre $10^{-5}$ e $10^{-3}$._"
   ]
  },
  {
   "cell_type": "markdown",
   "metadata": {
    "deletable": false,
    "editable": false,
    "id": "JU52QYuHVOHQ",
    "nbgrader": {
     "cell_type": "markdown",
     "checksum": "94e002dee6039be77bd85c9094adc79a",
     "grade": false,
     "grade_id": "cell-f73db6f03ad40c68",
     "locked": true,
     "schema_version": 3,
     "solution": false,
     "task": false
    }
   },
   "source": [
    "# 2: Um problema modelo\n",
    "\n",
    "Vamos minimizar a função $f(x) = e^x - 2x$."
   ]
  },
  {
   "cell_type": "code",
   "execution_count": 9,
   "metadata": {
    "deletable": false,
    "editable": false,
    "executionInfo": {
     "elapsed": 369,
     "status": "ok",
     "timestamp": 1665116089084,
     "user": {
      "displayName": "José Wilson",
      "userId": "13817341890133029989"
     },
     "user_tz": 180
    },
    "id": "J0U_8Md7VOHT",
    "nbgrader": {
     "cell_type": "code",
     "checksum": "258a73b0040029bcbb6ba512bb1a0901",
     "grade": false,
     "grade_id": "cell-50e439bd375c6d83",
     "locked": true,
     "schema_version": 3,
     "solution": false,
     "task": false
    }
   },
   "outputs": [],
   "source": [
    "def f(x):\n",
    "    return np.exp(x) - 2*x"
   ]
  },
  {
   "cell_type": "markdown",
   "metadata": {
    "deletable": false,
    "editable": false,
    "id": "BZe50U0uVOHV",
    "nbgrader": {
     "cell_type": "markdown",
     "checksum": "4eb888fa284466b2ceb633d7457dad99",
     "grade": false,
     "grade_id": "cell-e3d3efb25ad5cc63",
     "locked": true,
     "schema_version": 3,
     "solution": false,
     "task": false
    }
   },
   "source": [
    "## Preparando a bisseção\n",
    "\n",
    "Escreva 3 funções:\n",
    "- a derivada analítica $g_1(x) = f'(x)$\n",
    "- a derivada central $g_2(x)$ com passo `h = 1e-3`\n",
    "- a derivada central $g_2(x)$ com passo `h = 1e-5`"
   ]
  },
  {
   "cell_type": "code",
   "execution_count": 10,
   "metadata": {
    "deletable": false,
    "id": "a_9FbFhbVOHY",
    "nbgrader": {
     "cell_type": "code",
     "checksum": "db10c8b675effc6aed57ab25fda764a1",
     "grade": false,
     "grade_id": "cell-24a45d23c8e14f1d",
     "locked": false,
     "schema_version": 3,
     "solution": true,
     "task": false
    }
   },
   "outputs": [],
   "source": [
    "def g1(x):\n",
    "    return np.exp(x)-2\n",
    "\n",
    "def g2(x):\n",
    "    return df_central(f,x,1e-3)\n",
    "\n",
    "def g3(x):\n",
    "    return df_central(f,x,1e-5)"
   ]
  },
  {
   "cell_type": "code",
   "execution_count": 11,
   "metadata": {
    "deletable": false,
    "editable": false,
    "id": "oanwJiTLVOHc",
    "nbgrader": {
     "cell_type": "code",
     "checksum": "9bad8fc87cb31dbed9ebd102c3914d35",
     "grade": true,
     "grade_id": "cell-29fc4f72f2ac4d50",
     "locked": true,
     "points": 2,
     "schema_version": 3,
     "solution": false,
     "task": false
    }
   },
   "outputs": [],
   "source": [
    "np.random.seed(41)\n",
    "for x in np.random.rand(10):\n",
    "    assert np.isclose(g1(x), g2(x)), x\n",
    "    assert np.isclose(g1(x), g3(x)), x"
   ]
  },
  {
   "cell_type": "markdown",
   "metadata": {
    "deletable": false,
    "editable": false,
    "id": "4DdUno4pVOHh",
    "nbgrader": {
     "cell_type": "markdown",
     "checksum": "b08068b8f965d045973eee6f5c1df9b2",
     "grade": false,
     "grade_id": "cell-829fb63ccb4c0cca",
     "locked": true,
     "schema_version": 3,
     "solution": false,
     "task": false
    }
   },
   "source": [
    "Faça o gráfico de $f(x)$ e determine um intervalo para fazer bisseção para encontrar um zero da derivada."
   ]
  },
  {
   "cell_type": "code",
   "execution_count": 12,
   "metadata": {
    "deletable": false,
    "id": "GIabuLAsVOHk",
    "nbgrader": {
     "cell_type": "code",
     "checksum": "5edb59d346550a5328f3a7631ee43ccc",
     "grade": false,
     "grade_id": "cell-a58ac0f52b122daf",
     "locked": false,
     "schema_version": 3,
     "solution": true,
     "task": false
    }
   },
   "outputs": [
    {
     "data": {
      "image/png": "[encoded data removed]",
      "text/plain": [
       "<Figure size 432x288 with 1 Axes>"
      ]
     },
     "metadata": {
      "needs_background": "light"
     },
     "output_type": "display_data"
    }
   ],
   "source": [
    "x=np.linspace(0.35,1,20)\n",
    "plt.plot(x, f(x), color='blue', linestyle='solid',marker='o', markerfacecolor=\"red\")\n",
    "plt.title(\"Gráfico da função $f(x)=e^x-2$\")\n",
    "plt.grid()\n",
    "\n",
    "ax = plt.gca()"
   ]
  },
  {
   "cell_type": "code",
   "execution_count": 13,
   "metadata": {
    "deletable": false,
    "editable": false,
    "id": "oxILfYVSVOHn",
    "nbgrader": {
     "cell_type": "code",
     "checksum": "ea476aa7ebd6797fcd4bbde18628c64d",
     "grade": true,
     "grade_id": "cell-0cb823848a9c5e2a",
     "locked": true,
     "points": 1,
     "schema_version": 3,
     "solution": false,
     "task": false
    }
   },
   "outputs": [],
   "source": [
    "assert len(ax.lines) == 1\n",
    "assert ax.title.get_text() != \"\""
   ]
  },
  {
   "cell_type": "markdown",
   "metadata": {
    "deletable": false,
    "editable": false,
    "id": "Jud3vRMJVOHp",
    "nbgrader": {
     "cell_type": "markdown",
     "checksum": "24d0428ef62235734304e2dc752bc3dd",
     "grade": false,
     "grade_id": "cell-cad1aa84b713fa03",
     "locked": true,
     "schema_version": 3,
     "solution": false,
     "task": false
    }
   },
   "source": [
    "Qual intervalo você escolheria?\n",
    "Porquê?"
   ]
  },
  {
   "cell_type": "markdown",
   "metadata": {
    "deletable": false,
    "id": "hMx42HtPVOHs",
    "nbgrader": {
     "cell_type": "markdown",
     "checksum": "c5facd8e4669f216c60015a4fccac44a",
     "grade": true,
     "grade_id": "cell-747a80c3022bd503",
     "locked": false,
     "points": 1,
     "schema_version": 3,
     "solution": true,
     "task": false
    }
   },
   "source": [
    "**Resposta**\n",
    "\n",
    "_Escolheria o intervalo $[0.6,0.8]$ pois nota-se que nesse intervalo a função possui um ponto de mínimo, onde a derivada se anula._"
   ]
  },
  {
   "cell_type": "markdown",
   "metadata": {
    "deletable": false,
    "editable": false,
    "id": "3DXBq05qVOHu",
    "nbgrader": {
     "cell_type": "markdown",
     "checksum": "1e82977f797c04ea5e49000032bb19ba",
     "grade": false,
     "grade_id": "cell-e16fe2100c91ac0b",
     "locked": true,
     "schema_version": 3,
     "solution": false,
     "task": false
    }
   },
   "source": [
    "## Gráficos da bisseção\n",
    "\n",
    "Aplique o método da bisseção usando $g_1$, $g_2$ e $g_3$ para encontrar uma raiz de $f$.\n",
    "\n",
    "Faça um gráfico mostrando como evolui (ao longo das iterações)\n",
    "a distância do ponto considerado até a raiz ($\\log(2)$),\n",
    "para cada um dos métodos."
   ]
  },
  {
   "cell_type": "code",
   "execution_count": 14,
   "metadata": {
    "colab": {
     "base_uri": "https://localhost:8080/",
     "height": 473
    },
    "deletable": false,
    "executionInfo": {
     "elapsed": 332,
     "status": "error",
     "timestamp": 1665113863822,
     "user": {
      "displayName": "José Wilson",
      "userId": "13817341890133029989"
     },
     "user_tz": 180
    },
    "id": "e2DiX5gRVOHw",
    "nbgrader": {
     "cell_type": "code",
     "checksum": "536e45660e994de7d3936c6ea48fa178",
     "grade": false,
     "grade_id": "cell-5898a28e8d84011e",
     "locked": false,
     "schema_version": 3,
     "solution": true,
     "task": false
    },
    "outputId": "bff3f089-5043-4e21-f716-fdb884ae9c32"
   },
   "outputs": [
    {
     "data": {
      "image/png": "[encoded data removed]",
      "text/plain": [
       "<Figure size 432x288 with 1 Axes>"
      ]
     },
     "metadata": {
      "needs_background": "light"
     },
     "output_type": "display_data"
    }
   ],
   "source": [
    "y1=abs(bissecao_pts(g1,0.6,0.8)-np.log(2))\n",
    "y2=abs(bissecao_pts(g2,0.6,0.8)-np.log(2))\n",
    "y3=abs(bissecao_pts(g3,0.6,0.8)-np.log(2))\n",
    "plt.semilogy(y1, color='green', label='$g_1(x)$')\n",
    "plt.semilogy(y2,'bo' ,label='$g_2(x)$')\n",
    "plt.semilogy(y3,'m.',label='$g_3(x)$')\n",
    "plt.xlabel(\"Interações\")\n",
    "plt.ylabel('Distância à $\\ln{(2)}$')\n",
    "plt.legend()\n",
    "plt.title('Distancia dos pontos da bisseção à raíz da função $\\dfrac{df}{dx}(x)=e^x-2$')\n",
    "plt.grid()\n",
    "ax = plt.gca()"
   ]
  },
  {
   "cell_type": "code",
   "execution_count": 15,
   "metadata": {
    "colab": {
     "base_uri": "https://localhost:8080/",
     "height": 540
    },
    "deletable": false,
    "editable": false,
    "executionInfo": {
     "elapsed": 60,
     "status": "error",
     "timestamp": 1665113864516,
     "user": {
      "displayName": "José Wilson",
      "userId": "13817341890133029989"
     },
     "user_tz": 180
    },
    "id": "DGt7TgeAVOHy",
    "nbgrader": {
     "cell_type": "code",
     "checksum": "371a5eb6691e3a545842396edccb0a4b",
     "grade": true,
     "grade_id": "cell-6c548be9ea138bca",
     "locked": true,
     "points": 2,
     "schema_version": 3,
     "solution": false,
     "task": false
    },
    "outputId": "98c0dfc4-923b-4427-c779-30955e399ab9"
   },
   "outputs": [],
   "source": [
    "assert len(ax.lines) == 3\n",
    "assert len(ax.legend().texts) == 3\n",
    "assert ax.title.get_text() != \"\"\n",
    "assert ax.get_xlabel() != \"\""
   ]
  },
  {
   "cell_type": "markdown",
   "metadata": {
    "deletable": false,
    "editable": false,
    "id": "tUviOoxjVOH1",
    "nbgrader": {
     "cell_type": "markdown",
     "checksum": "7ceaa67e3078c8fd2ffda661a9a0df13",
     "grade": false,
     "grade_id": "cell-25c5ce8287aa00a4",
     "locked": true,
     "schema_version": 3,
     "solution": false,
     "task": false
    }
   },
   "source": [
    "O que você vê no gráfico acima?\n",
    "Como você explica?"
   ]
  },
  {
   "cell_type": "markdown",
   "metadata": {
    "deletable": false,
    "id": "x0pb_lLvVOH4",
    "nbgrader": {
     "cell_type": "markdown",
     "checksum": "08a80b4de713a17fe757e076d555bd09",
     "grade": true,
     "grade_id": "cell-b7f111b2be544b98",
     "locked": false,
     "points": 2,
     "schema_version": 3,
     "solution": true,
     "task": false
    }
   },
   "source": [
    "**Resposta**\n",
    "\n",
    "_As derivadas numéricas comportam-se de maneira iguais até a vigésima interação, porém, a partir deste ponto a derivada numérca com passo $h=1e-3$ passa a não ter um melhor desempenho, pois o erro cometido com essa escolha de função ($g_2(x)$) não se reduz com as interações. Assim, $g_3(x)$ torna-se uma escolha melhor, dado que está contida na linha de $g_1(x)$, reduzindo o erro com aumento no número de interações._"
   ]
  },
  {
   "cell_type": "markdown",
   "metadata": {
    "deletable": false,
    "editable": false,
    "id": "Pf2ssv3TVOH7",
    "nbgrader": {
     "cell_type": "markdown",
     "checksum": "8dbccd2631fc56a8ad603f9008b64063",
     "grade": false,
     "grade_id": "cell-23da70c6d88da324",
     "locked": true,
     "schema_version": 3,
     "solution": false,
     "task": false
    }
   },
   "source": [
    "## Newton\n",
    "\n",
    "Para usar o método de Newton, será necessário usarmos mais uma derivada numérica.\n",
    "\n",
    "Implemente\n",
    "- $h_1(x)$, a segunda derivada analítica, e\n",
    "- $h_2(x)$ a derivada numérica (que pode ser obtida a partir de `ddf_central`)."
   ]
  },
  {
   "cell_type": "code",
   "execution_count": 16,
   "metadata": {
    "deletable": false,
    "id": "uTdk5DNwVOH9",
    "nbgrader": {
     "cell_type": "code",
     "checksum": "5404878115634b009970291c4afae16f",
     "grade": false,
     "grade_id": "cell-6f3276844ea70932",
     "locked": false,
     "schema_version": 3,
     "solution": true,
     "task": false
    }
   },
   "outputs": [],
   "source": [
    "def h1(x):\n",
    "    return np.exp(x)\n",
    "\n",
    "def h2(x):\n",
    "    return ddf_central(f,x)"
   ]
  },
  {
   "cell_type": "code",
   "execution_count": 17,
   "metadata": {
    "deletable": false,
    "editable": false,
    "id": "oBVYEXohVOH_",
    "nbgrader": {
     "cell_type": "code",
     "checksum": "c0f24f081daebbfce878d085bf74e172",
     "grade": true,
     "grade_id": "cell-c10da51972d62af4",
     "locked": true,
     "points": 1,
     "schema_version": 3,
     "solution": false,
     "task": false
    }
   },
   "outputs": [],
   "source": [
    "np.random.seed(41)\n",
    "for x in np.random.randn(10):\n",
    "    assert np.isclose(h1(x), h2(x)), x"
   ]
  },
  {
   "cell_type": "markdown",
   "metadata": {
    "deletable": false,
    "editable": false,
    "id": "CUj257BBVOIC",
    "nbgrader": {
     "cell_type": "markdown",
     "checksum": "16d6f04597392e72afb177d7a4aed7c7",
     "grade": false,
     "grade_id": "cell-2e22f9380c6d0178",
     "locked": true,
     "schema_version": 3,
     "solution": false,
     "task": false
    }
   },
   "source": [
    "Agora, aplique o método de Newton (com tolerâncias padrão):\n",
    "- com ambas as derivadas analíticas\n",
    "- com a primeira derivada analítica, e a segunda numérica\n",
    "- com ambas as derivadas numéricas (use a \"melhor\" derivada central que você puder).\n",
    "\n",
    "Faça, como no caso da bisseção, o gráfico da distância até a mínimo da função."
   ]
  },
  {
   "cell_type": "code",
   "execution_count": 18,
   "metadata": {
    "deletable": false,
    "id": "_KhyeloAVOIE",
    "nbgrader": {
     "cell_type": "code",
     "checksum": "55cf4c6fc14a5618fa060ef44894ccbd",
     "grade": false,
     "grade_id": "cell-1d13bf7169526341",
     "locked": false,
     "schema_version": 3,
     "solution": true,
     "task": false
    }
   },
   "outputs": [
    {
     "data": {
      "image/png": "[encoded data removed]",
      "text/plain": [
       "<Figure size 576x360 with 1 Axes>"
      ]
     },
     "metadata": {
      "needs_background": "light"
     },
     "output_type": "display_data"
    }
   ],
   "source": [
    "y1=abs(newton_pts(g1,h1,2)-np.log(2))\n",
    "y2=abs(newton_pts(g1,h2,2)-np.log(2))\n",
    "y3=abs(newton_pts(g3,h2,2)-np.log(2))\n",
    "plt.figure(figsize=(8,5))\n",
    "plt.semilogy(y1,'Db', label='Usando as derivadas analíticas')\n",
    "plt.semilogy(y2,'g^',label='Usando derivada analitíca e numérica')\n",
    "plt.semilogy(y3,'r.',label='Usando ambas as derivadas numéricas')\n",
    "plt.xlabel(\"Interações\")\n",
    "plt.ylabel('Distância à $\\ln{(2)}$')\n",
    "plt.legend(title=\"\", bbox_to_anchor=(1,0.5), loc=\"center left\")\n",
    "plt.title('Distancia dos pontos obtidos pelo Método de Newton ao mínimo da função $f(x)=e^x-2x$')\n",
    "\n",
    "ax = plt.gca()"
   ]
  },
  {
   "cell_type": "code",
   "execution_count": 19,
   "metadata": {
    "deletable": false,
    "editable": false,
    "id": "ufrNI4V3VOIG",
    "nbgrader": {
     "cell_type": "code",
     "checksum": "ace81e81269c29557de33862e75e13c8",
     "grade": true,
     "grade_id": "cell-66860f1fda7d0769",
     "locked": true,
     "points": 1,
     "schema_version": 3,
     "solution": false,
     "task": false
    }
   },
   "outputs": [],
   "source": [
    "assert len(ax.lines) == 3\n",
    "assert len(ax.legend().texts) == 3\n",
    "assert ax.title.get_text() != \"\"\n",
    "assert ax.get_xlabel() != \"\""
   ]
  },
  {
   "cell_type": "markdown",
   "metadata": {
    "deletable": false,
    "editable": false,
    "id": "-OhvpIMJVOIK",
    "nbgrader": {
     "cell_type": "markdown",
     "checksum": "c7f395843dd76b9406656cd4a989c80b",
     "grade": false,
     "grade_id": "cell-80622fba5962c988",
     "locked": true,
     "schema_version": 3,
     "solution": false,
     "task": false
    }
   },
   "source": [
    "Agora, reduza ambas as tolerâncias do método para `1e-15`, e refaça os gráficos."
   ]
  },
  {
   "cell_type": "code",
   "execution_count": 20,
   "metadata": {
    "deletable": false,
    "id": "Uh6_FfXfVOIM",
    "nbgrader": {
     "cell_type": "code",
     "checksum": "3735d31827898e3337581fa6db3ea1c6",
     "grade": true,
     "grade_id": "cell-99d9571ec5ff0bb4",
     "locked": false,
     "points": 1,
     "schema_version": 3,
     "solution": true,
     "task": false
    }
   },
   "outputs": [
    {
     "data": {
      "text/plain": [
       "Text(0.5, 1.0, 'Distância dos pontos obtidos pelo Método de Newton ao mínimo da função $f(x)=e^x-2x$')"
      ]
     },
     "execution_count": 20,
     "metadata": {},
     "output_type": "execute_result"
    },
    {
     "data": {
      "image/png": "[encoded data removed]",
      "text/plain": [
       "<Figure size 576x360 with 1 Axes>"
      ]
     },
     "metadata": {
      "needs_background": "light"
     },
     "output_type": "display_data"
    }
   ],
   "source": [
    "y1=abs(newton_pts(g1,h1,2,1e-15,1e-15)-np.log(2))\n",
    "y2=abs(newton_pts(g1,h2,2,1e-15,1e-15)-np.log(2))\n",
    "y3=abs(newton_pts(g3,h2,2,1e-15,1e-15)-np.log(2))\n",
    "plt.figure(figsize=(8,5))\n",
    "plt.semilogy(y1,'Db', label='Usando as derivadas analíticas')\n",
    "plt.semilogy(y2,'g^',label='Usando derivada analitíca e numérica')\n",
    "plt.semilogy(y3,'r.',label='Usando ambas as derivadas numéricas')\n",
    "plt.xlabel(\"Interações\")\n",
    "plt.ylabel('Distância à $\\ln{(2)}$')\n",
    "plt.legend(bbox_to_anchor=(1,0.5), loc=\"center left\")\n",
    "plt.title('Distância dos pontos obtidos pelo Método de Newton ao mínimo da função $f(x)=e^x-2x$')"
   ]
  },
  {
   "cell_type": "markdown",
   "metadata": {
    "deletable": false,
    "editable": false,
    "id": "gSEgIJ-VVOIP",
    "nbgrader": {
     "cell_type": "markdown",
     "checksum": "74ca5df8fcfd3e57d63283c23c0136c9",
     "grade": false,
     "grade_id": "cell-01eb8bb00f1f5bdb",
     "locked": true,
     "schema_version": 3,
     "solution": false,
     "task": false
    }
   },
   "source": [
    "Deveria haver (pelo menos) duas diferenças entre este gráfico e o anterior.\n",
    "\n",
    "- Quais você observa?\n",
    "- Como você as explica?"
   ]
  },
  {
   "cell_type": "markdown",
   "metadata": {
    "deletable": false,
    "id": "t4lk5c5QVOIQ",
    "nbgrader": {
     "cell_type": "markdown",
     "checksum": "0933d483ff8f446d9225d3095a6ff333",
     "grade": true,
     "grade_id": "cell-7f4f22e525bf8a98",
     "locked": false,
     "points": 3,
     "schema_version": 3,
     "solution": true,
     "task": false
    }
   },
   "source": [
    "**Resposta**\n",
    "\n",
    "_Os eixos se alteraram e, também, usando ambas as derivadas numéricas, houve um loop até atingir o máximo das interações colocado como defult. Ou seja, como as tolerâncias ficaram extremamente baixas, ao utilizar as derivadas numéricas como modelo de estimação da distância, não houve interações suficientes para se chegar abaixo ou igual às tolerâncias colocadas, porém o loop acaba ao atigir o número máximo de interações._"
   ]
  },
  {
   "cell_type": "markdown",
   "metadata": {
    "deletable": false,
    "editable": false,
    "id": "zVM4hBdeVOIU",
    "nbgrader": {
     "cell_type": "markdown",
     "checksum": "e47055e0ef025c7e55b8dafd6a99cc15",
     "grade": false,
     "grade_id": "cell-fa08d17ea63fb838",
     "locked": true,
     "schema_version": 3,
     "solution": false,
     "task": false
    }
   },
   "source": [
    "# 3: O mesmo problema, mais complicado\n",
    "\n",
    "Queremos achar o mínimo da função $$ f(x) = e^{x^2-2x+1}-2^{x^3-6x+12} $$\n",
    "no intervalo $[-2,2]$.\n",
    "\n",
    "Defina $f$, e faça um gráfico para encontrar um intervalo para bisseção e um ponto inicial para Newton."
   ]
  },
  {
   "cell_type": "code",
   "execution_count": 21,
   "metadata": {
    "deletable": false,
    "id": "aCbLz2_JVOIW",
    "nbgrader": {
     "cell_type": "code",
     "checksum": "0ced7e6818e714424989f7e7986e33bf",
     "grade": false,
     "grade_id": "cell-f50afc7c95af2a39",
     "locked": false,
     "schema_version": 3,
     "solution": true,
     "task": false
    }
   },
   "outputs": [
    {
     "data": {
      "image/png": "[encoded data removed]",
      "text/plain": [
       "<Figure size 432x288 with 1 Axes>"
      ]
     },
     "metadata": {
      "needs_background": "light"
     },
     "output_type": "display_data"
    }
   ],
   "source": [
    "def f(x):\n",
    "    return np.exp(x**2-2*x+1)-2**(x**3-6*x+12)\n",
    "x=np.linspace(-2,2)\n",
    "y=f(x)\n",
    "plt.plot(x,y,'bo-')\n",
    "plt.title('Gráfico de $f(x)$')\n",
    "plt.xlabel('$x$')\n",
    "plt.ylabel('$y$')\n",
    "\n",
    "ax = plt.gca()"
   ]
  },
  {
   "cell_type": "code",
   "execution_count": 22,
   "metadata": {
    "deletable": false,
    "editable": false,
    "id": "A3kXQiFfVOIZ",
    "nbgrader": {
     "cell_type": "code",
     "checksum": "105d40e42611bec68d496ad107025730",
     "grade": true,
     "grade_id": "cell-b3efe4063d0789aa",
     "locked": true,
     "points": 2,
     "schema_version": 3,
     "solution": false,
     "task": false
    }
   },
   "outputs": [],
   "source": [
    "assert len(ax.lines) == 1\n",
    "assert ax.title.get_text() != \"\"\n",
    "\n",
    "yvals = ax.lines[0].get_ydata()\n",
    "assert min(yvals) <= -20000\n",
    "assert np.all(yvals <= 0)"
   ]
  },
  {
   "cell_type": "markdown",
   "metadata": {
    "id": "E1djUT2QVOIb"
   },
   "source": [
    "Defina a derivada (analítica) de f:"
   ]
  },
  {
   "cell_type": "code",
   "execution_count": 23,
   "metadata": {
    "deletable": false,
    "id": "YXB3m-yWVOIf",
    "nbgrader": {
     "cell_type": "code",
     "checksum": "c7cea27bf68d2db6ea06033b0f2c5fdb",
     "grade": false,
     "grade_id": "cell-8aebf73d70947e5a",
     "locked": false,
     "schema_version": 3,
     "solution": true,
     "task": false
    }
   },
   "outputs": [],
   "source": [
    "def g1(x):\n",
    "    return 2*(np.exp((x-1)**2)*(x-1))-3*(2**((x**3)-6*x+12))*((x**2)-2)*np.log(2)"
   ]
  },
  {
   "cell_type": "code",
   "execution_count": 24,
   "metadata": {
    "deletable": false,
    "editable": false,
    "id": "TojwX4KdVOIi",
    "nbgrader": {
     "cell_type": "code",
     "checksum": "3215aeb46a7cce0e218a4794a812692d",
     "grade": true,
     "grade_id": "cell-59d6e23f17f20c90",
     "locked": true,
     "points": 1,
     "schema_version": 3,
     "solution": false,
     "task": false
    }
   },
   "outputs": [],
   "source": [
    "np.random.seed(2022)\n",
    "for x in np.random.randn(10):\n",
    "    assert np.isclose(g1(x), df_central(f, x), rtol=1e-8)"
   ]
  },
  {
   "cell_type": "markdown",
   "metadata": {
    "deletable": false,
    "editable": false,
    "id": "uREhXR1mVOIm",
    "nbgrader": {
     "cell_type": "markdown",
     "checksum": "d5e0e2f2cb67874b7c299b07e5d77063",
     "grade": false,
     "grade_id": "cell-3cf7c7f8b9c917bf",
     "locked": true,
     "schema_version": 3,
     "solution": false,
     "task": false
    }
   },
   "source": [
    "Calcule a raiz exata (a menos da precisão) do computador,\n",
    "aplicando o método da bisseção à derivada analítica de $f$."
   ]
  },
  {
   "cell_type": "code",
   "execution_count": 25,
   "metadata": {
    "deletable": false,
    "id": "BJwnb3PRVOIp",
    "nbgrader": {
     "cell_type": "code",
     "checksum": "e4fd836bf1d99117207c8d2785fd8336",
     "grade": true,
     "grade_id": "cell-24d5013349e7f661",
     "locked": false,
     "points": 1,
     "schema_version": 3,
     "solution": true,
     "task": false
    }
   },
   "outputs": [
    {
     "data": {
      "text/plain": [
       "-1.412872403203108"
      ]
     },
     "execution_count": 25,
     "metadata": {},
     "output_type": "execute_result"
    }
   ],
   "source": [
    "xs_bissecao=bissecao_pts(g1,-1.5,-1,1e-15,1e-15)\n",
    "xraiz=xs_bissecao[-1]\n",
    "xraiz"
   ]
  },
  {
   "cell_type": "markdown",
   "metadata": {
    "deletable": false,
    "editable": false,
    "id": "J7qgu_C3VOIs",
    "nbgrader": {
     "cell_type": "markdown",
     "checksum": "b74703f8033db78b8d42c36ceaa81e61",
     "grade": false,
     "grade_id": "cell-40c7aaafebc60a39",
     "locked": true,
     "schema_version": 3,
     "solution": false,
     "task": false
    }
   },
   "source": [
    "Calcule o valor de $f$ nos pontos obtidos.\n",
    "Em qual/quais deles ocorreu o mínimo?"
   ]
  },
  {
   "cell_type": "code",
   "execution_count": 26,
   "metadata": {
    "deletable": false,
    "id": "7SYErNdbVOIu",
    "nbgrader": {
     "cell_type": "code",
     "checksum": "e7a8bce40f0ae85e789f796c790d3c34",
     "grade": true,
     "grade_id": "cell-c6e8bb7029f4e79b",
     "locked": false,
     "points": 1,
     "schema_version": 3,
     "solution": true,
     "task": false
    }
   },
   "outputs": [
    {
     "data": {
      "text/plain": [
       "[-1.4128724038600922, -1.412872403219808]"
      ]
     },
     "execution_count": 26,
     "metadata": {},
     "output_type": "execute_result"
    }
   ],
   "source": [
    "fs=[f(x) for x in xs_bissecao]\n",
    "m=[]\n",
    "for x in xs_bissecao:\n",
    "    if f(x)==min(fs):\n",
    "        m.append(x)\n",
    "m"
   ]
  },
  {
   "cell_type": "markdown",
   "metadata": {
    "deletable": false,
    "editable": false,
    "id": "jtJUH6pUVOIx",
    "nbgrader": {
     "cell_type": "markdown",
     "checksum": "e65ad2e99a7a5b85c2a7fe0fa22a03de",
     "grade": false,
     "grade_id": "cell-5beca6356c3e27a2",
     "locked": true,
     "schema_version": 3,
     "solution": false,
     "task": false
    }
   },
   "source": [
    "Qual a distância deste ponto ao último ponto produzido pela bisseção?"
   ]
  },
  {
   "cell_type": "code",
   "execution_count": 27,
   "metadata": {
    "deletable": false,
    "id": "22tYAByuVOI0",
    "nbgrader": {
     "cell_type": "code",
     "checksum": "99d42db2387a4fe1e27e36ff4cbcce2b",
     "grade": true,
     "grade_id": "cell-6345a587885e746f",
     "locked": false,
     "points": 1,
     "schema_version": 3,
     "solution": true,
     "task": false
    }
   },
   "outputs": [
    {
     "data": {
      "text/plain": [
       "array([6.56984245e-10, 1.66999747e-11])"
      ]
     },
     "execution_count": 27,
     "metadata": {},
     "output_type": "execute_result"
    }
   ],
   "source": [
    "dist=abs(np.array(m)-xraiz)\n",
    "dist"
   ]
  },
  {
   "cell_type": "markdown",
   "metadata": {
    "id": "-qh97rEAVOI4"
   },
   "source": [
    "O que você acha que aconteceu?"
   ]
  },
  {
   "cell_type": "markdown",
   "metadata": {
    "deletable": false,
    "id": "k37MH8cEVOI7",
    "nbgrader": {
     "cell_type": "markdown",
     "checksum": "706b32e13c05be2f46c1415f51e35cd7",
     "grade": true,
     "grade_id": "cell-bba16521dc57afe7",
     "locked": false,
     "points": 1,
     "schema_version": 3,
     "solution": true,
     "task": false
    }
   },
   "source": [
    "**Resposta**\n",
    "\n",
    "_Como foram encontrados dois valores de mínimos para $f(x)$, podemos induzir que o python interpretou como iguais dois valores baixos, dos quais possuem uma diferença bastante pequena quando comparado com a raiz encontrada pelo método da bisseção. Assim, dentre a lista de valores de $f(x)$, os números -1.4128724038600922 e -1.412872403219808 foram detectados como mínimos._"
   ]
  },
  {
   "cell_type": "markdown",
   "metadata": {
    "deletable": false,
    "editable": false,
    "id": "kuVD8iDTVOI-",
    "nbgrader": {
     "cell_type": "markdown",
     "checksum": "c908ed0939326673dbee1ea51699735f",
     "grade": false,
     "grade_id": "cell-ac38132ef810a31c",
     "locked": true,
     "schema_version": 3,
     "solution": false,
     "task": false
    }
   },
   "source": [
    "Agora, compare o erro com o método da bisseção e o de Newton, usando as derivadas numéricas.\n",
    "\n",
    "Como sugerem as contas acima, aqui há vários problemas de precisão numérica.\n",
    "Assim, tente botar tolerâncias pequenas, mas não pequenas demais para seus métodos."
   ]
  },
  {
   "cell_type": "code",
   "execution_count": 28,
   "metadata": {
    "deletable": false,
    "id": "Ag16odrpVOJA",
    "nbgrader": {
     "cell_type": "code",
     "checksum": "4c3846bfa271f16cca943fb12f6d528c",
     "grade": true,
     "grade_id": "cell-e6a2e19935b8f52c",
     "locked": false,
     "points": 2,
     "schema_version": 3,
     "solution": true,
     "task": false
    }
   },
   "outputs": [
    {
     "data": {
      "image/png": "[encoded data removed]",
      "text/plain": [
       "<Figure size 432x288 with 1 Axes>"
      ]
     },
     "metadata": {
      "needs_background": "light"
     },
     "output_type": "display_data"
    }
   ],
   "source": [
    "def df(x):\n",
    "    return df_central(f,x)\n",
    "def ddf(x):\n",
    "    return ddf_central(f,x)\n",
    "\n",
    "Ebis=np.array(bissecao_pts(df,-1.5,1,1e-10,1e-10))-min(m)\n",
    "Enew=np.array(newton_pts(df,ddf,-1.5,1e-10,1e-10))-min(m)\n",
    "\n",
    "plt.semilogy(abs(Ebis), 'ob', label='Erro para o método da bisseção')\n",
    "plt.semilogy(abs(Enew), 'r^', label='Erro para o método de newton')\n",
    "plt.title('Comparação do erro com o método da bisseção e o de Newton usando as derivadas numéricas')\n",
    "plt.legend()\n",
    "ax = plt.gca()"
   ]
  },
  {
   "cell_type": "code",
   "execution_count": 29,
   "metadata": {
    "deletable": false,
    "editable": false,
    "id": "GQ2QUcpjVOJD",
    "nbgrader": {
     "cell_type": "code",
     "checksum": "bf0b848a44031ab90a329c968eb7d4e9",
     "grade": true,
     "grade_id": "cell-eb0e50722f1f5f16",
     "locked": true,
     "points": 1,
     "schema_version": 3,
     "solution": false,
     "task": false
    }
   },
   "outputs": [],
   "source": [
    "assert len(ax.lines) == 2\n",
    "assert len(ax.get_legend().texts) == 2"
   ]
  },
  {
   "cell_type": "code",
   "execution_count": 30,
   "metadata": {
    "deletable": false,
    "editable": false,
    "id": "0dH_w5iDVOJF",
    "nbgrader": {
     "cell_type": "code",
     "checksum": "88b261371c737a1bae2470a0eeed9743",
     "grade": true,
     "grade_id": "cell-510e88d4691fd982",
     "locked": true,
     "points": 1,
     "schema_version": 3,
     "solution": false,
     "task": false
    }
   },
   "outputs": [],
   "source": [
    "for l in ax.lines:\n",
    "    ys = l.get_ydata()\n",
    "    assert min(abs(ys)) < 1e-8"
   ]
  }
 ],
 "metadata": {
  "colab": {
   "provenance": []
  },
  "kernelspec": {
   "display_name": "Python 3 (ipykernel)",
   "language": "python",
   "name": "python3"
  },
  "language_info": {
   "codemirror_mode": {
    "name": "ipython",
    "version": 3
   },
   "file_extension": ".py",
   "mimetype": "text/x-python",
   "name": "python",
   "nbconvert_exporter": "python",
   "pygments_lexer": "ipython3",
   "version": "3.9.12"
  }
 },
 "nbformat": 4,
 "nbformat_minor": 1
}
